{
 "cells": [
  {
   "cell_type": "markdown",
   "id": "cf40720e-5989-4ce7-ba91-c9a7ed76da39",
   "metadata": {},
   "source": [
    "# 5.2 Defining interventions\n",
    "\n",
    "In this tutorial, you will learn how to add interventions to Starsim.\n",
    "\n",
    "Here, we will define a vaccine intervention that is applied at a single point in time (`timestep`) that increases the immunity of a random subset of agents (`prob`) by a certain amount (`imm_boost`)."
   ]
  },
  {
   "cell_type": "code",
   "execution_count": null,
   "id": "a80cce13-0483-4e3f-b945-17c71e590e6f",
   "metadata": {},
   "outputs": [],
   "source": [
    "\"\"\"\n",
    "An example of an SIS model with a vaccine intervention\n",
    "\"\"\"\n",
    "\n",
    "import numpy as np # Math\n",
    "import sciris as sc # Utilities\n",
    "import pylab as pl # Plotting\n",
    "import starsim as ss # ABM\n",
    "\n",
    "class Vaccine(ss.Intervention): # Create a new, generic vaccine intervention\n",
    "    \n",
    "    def __init__(self, timestep=10, prob=0.5, imm_boost=2.0):\n",
    "        super().__init__() # Initialize the intervention\n",
    "        self.timestep = timestep # Store the parameters\n",
    "        self.prob = prob\n",
    "        self.imm_boost = imm_boost\n",
    "    \n",
    "    def apply(self, sim): # Apply the vaccine\n",
    "        if sim.ti == self.timestep: # Only apply on the matching timestep\n",
    "            eligible_ids = sim.people.uid # Assume everyone is eligible\n",
    "            n_eligible = len(eligible_ids) # Number of people who are eligible\n",
    "            to_vaccinate = self.prob > np.random.rand(n_eligible) # Define which of the n_eligible people get vaccinated by comparing np.random.rand() to self.p\n",
    "            vaccine_ids = eligible_ids[to_vaccinate] # Pull out the IDs for the people receiving the vaccine\n",
    "            immunity = sim.diseases.sis.immunity # Shorten the name of the immunity\n",
    "            immunity[vaccine_ids] += self.imm_boost # Modify the immunity by adding \"boost\" to the current immunity\n",
    "\n",
    "\n",
    "def make_run_sim(timestep=10, prob=0.5, imm_boost=2.0): # Create and run the simulation\n",
    "\n",
    "    vaccine = Vaccine(timestep=timestep, prob=prob, imm_boost=imm_boost) # Create the specific vaccine object\n",
    "    pars = dict(start=0, end=50, dt=1.0, diseases='sis', networks='random') # Define the parameters of the simulation\n",
    "    \n",
    "    # Define \"baseline\" and \"intervention\" sims without and with the vaccine\n",
    "    baseline_sim = ss.Sim(pars)\n",
    "    vaccine_sim = ss.Sim(pars, interventions=vaccine)\n",
    "    \n",
    "    # Run the two simulations\n",
    "    baseline_sim.run()\n",
    "    vaccine_sim.run()\n",
    "\n",
    "    # Pull out results to plot\n",
    "    time = baseline_sim.yearvec\n",
    "    baseline_results = baseline_sim.results.sis\n",
    "    vaccine_results = vaccine_sim.results.sis\n",
    "    \n",
    "    n_infected_baseline = baseline_results.n_infected\n",
    "    n_infected_vaccine = vaccine_results.n_infected\n",
    "    new_infections_baseline = baseline_results.new_infections\n",
    "    new_infections_vaccine = vaccine_results.new_infections\n",
    "    \n",
    "    # Create the figure\n",
    "    pl.figure()\n",
    "    \n",
    "    # Plot number of people infected\n",
    "    pl.subplot(2,1,1)\n",
    "    pl.title('Number of people infected')\n",
    "    pl.plot(time, n_infected_baseline, 'o-', label='Baseline') # Plot baseline\n",
    "    pl.plot(time, n_infected_vaccine, 'o-', label='Vaccine') # Plot vaccine\n",
    "    pl.axvline(time[vaccine.timestep])\n",
    "    pl.legend()\n",
    "    \n",
    "    # Plot number of new infections\n",
    "    pl.subplot(2,1,2)\n",
    "    pl.title('New infections')\n",
    "    pl.plot(time, new_infections_baseline, 'o-', label='Baseline') # Plot baseline\n",
    "    pl.plot(time, new_infections_vaccine, 'o-', label='Vaccine') # Plot vaccine\n",
    "    pl.axvline(time[vaccine.timestep])\n",
    "    pl.legend()\n",
    "\n",
    "    sc.figlayout()\n",
    "    pl.show()\n",
    "    \n",
    "# Make, run, and plot the simulation\n",
    "make_run_sim()"
   ]
  },
  {
   "cell_type": "markdown",
   "id": "6b6edcfa-8a3f-4a25-b851-9f1b4bd00202",
   "metadata": {},
   "source": [
    "## Problem 1\n",
    "\n",
    "Confirm that with `prob=1.0` and a large boost, that all transmission stops."
   ]
  },
  {
   "cell_type": "markdown",
   "id": "6fd0765f-980d-4c9a-a584-1b69d800eb7b",
   "metadata": {},
   "source": [
    "## Solution 1"
   ]
  },
  {
   "cell_type": "code",
   "execution_count": null,
   "id": "0168af9f-c96a-4932-a60e-11d003b8d20d",
   "metadata": {},
   "outputs": [],
   "source": [
    "make_run_sim(prob=1.0, imm_boost=100)"
   ]
  },
  {
   "cell_type": "markdown",
   "id": "1c8c4066",
   "metadata": {},
   "source": [
    "## Problem 2\n",
    "\n",
    "How do changes in `prob` and `imm_boost` affect the results?"
   ]
  },
  {
   "cell_type": "markdown",
   "id": "ba79790e-7212-44f3-a40d-a515bc5ff415",
   "metadata": {},
   "source": [
    "## Solution 2\n",
    "\n",
    "(Note: these are examples, other parameter values should also be checked.)"
   ]
  },
  {
   "cell_type": "code",
   "execution_count": null,
   "id": "d7242d3a-689c-4438-94ee-050e11cd837e",
   "metadata": {},
   "outputs": [],
   "source": [
    "make_run_sim(prob=0.5, imm_boost=2.0)\n",
    "make_run_sim(prob=1.0, imm_boost=1.0)"
   ]
  }
 ],
 "metadata": {
  "kernelspec": {
   "display_name": "Python 3 (ipykernel)",
   "language": "python",
   "name": "python3"
  },
  "language_info": {
   "codemirror_mode": {
    "name": "ipython",
    "version": 3
   },
   "file_extension": ".py",
   "mimetype": "text/x-python",
   "name": "python",
   "nbconvert_exporter": "python",
   "pygments_lexer": "ipython3",
   "version": "3.11.7"
  }
 },
 "nbformat": 4,
 "nbformat_minor": 5
}

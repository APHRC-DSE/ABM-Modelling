{
 "cells": [
  {
   "cell_type": "markdown",
   "id": "cf40720e-5989-4ce7-ba91-c9a7ed76da39",
   "metadata": {},
   "source": [
    "# 5.5 Modeling scenarios with uncertainty\n",
    "\n",
    "In this tutorial, you will learn how to put everything together: calibrate a model, design interventions, and assess their impact."
   ]
  },
  {
   "cell_type": "markdown",
   "id": "55de356a-f849-45ff-9f44-0c6aa5a41e0e",
   "metadata": {},
   "source": [
    "## Problem 1\n",
    "\n",
    "Consider we have data on two disease outbreaks. In the first outbreak ('baseline'), no intervention was applied. In the second outbreak, a vaccine was applied on the 10th day. Plot the following data to show the outbreaks."
   ]
  },
  {
   "cell_type": "code",
   "execution_count": null,
   "id": "929e5f79-3eee-4d81-9d3a-429fc436d907",
   "metadata": {},
   "outputs": [],
   "source": [
    "import sciris as sc\n",
    "import numpy as np\n",
    "import pylab as pl\n",
    "import starsim as ss\n",
    "\n",
    "data_baseline = np.array([\n",
    " 10,  20,  30,  49,  80, 135, 218, 303, 373, 428, 452, 463, 465,\n",
    "446, 411, 374, 323, 270, 244, 222, 214, 214, 227, 246, 260, 271,\n",
    "265, 257, 254, 243, 232, 214, 191, 161, 137, 110,  98,  83,  67,\n",
    " 62,  51,  47,  45,  42,  47,  49,  48,  48,  52,  57,  67,  77,\n",
    " 89,  96, 117, 129, 148, 176, 191, 209, 233, 248, 252, 253, 253,\n",
    "245, 234, 214, 199, 183, 159, 145, 129, 118, 109,  97,  94,  94,\n",
    " 83,  82,  79,  75,  82,  91,  99, 104, 104, 113, 129, 146, 153,\n",
    "163, 175, 193, 197, 208, 208, 213, 215, 203, 204])\n",
    "\n",
    "data_vaccine = np.array([\n",
    " 10,  20,  30,  49,  80,  92, 102, 110, 119, 118, 124, 118, 115,\n",
    "96,  79,  72,  65,  61,  51,  37,  36,  28,  21,  22,  15,  15,\n",
    "11,  10,  11,   9,  10,   6,   6,   6,   7,   5,   7,   6,   6,\n",
    " 7,   6,   7,   7,   7,   9,   8,   6,   7,  10,   8,   7,   9,\n",
    " 9,   7,   8,   8,  11,  12,  11,  10,   8,  10,  14,  18,  21,\n",
    "20,  22,  23,  25,  27,  25,  24,  28,  28,  28,  27,  27,  27,\n",
    "27,  28,  25,  25,  19,  20,  21,  21,  24,  26,  28,  33,  43,\n",
    "54,  65,  82,  92, 115, 133, 170, 199, 222, 250])\n",
    "\n",
    "# EXERCISE: plot data"
   ]
  },
  {
   "cell_type": "markdown",
   "id": "a7b1c5fe-ed26-4ee4-8854-28465d18fb60",
   "metadata": {},
   "source": [
    "## Solution 1"
   ]
  },
  {
   "cell_type": "code",
   "execution_count": null,
   "id": "a80cce13-0483-4e3f-b945-17c71e590e6f",
   "metadata": {},
   "outputs": [],
   "source": [
    "import sciris as sc\n",
    "import numpy as np\n",
    "import pylab as pl\n",
    "import starsim as ss\n",
    "\n",
    "data_baseline = np.array([\n",
    " 10,  20,  30,  49,  80, 135, 218, 303, 373, 428, 452, 463, 465,\n",
    "446, 411, 374, 323, 270, 244, 222, 214, 214, 227, 246, 260, 271,\n",
    "265, 257, 254, 243, 232, 214, 191, 161, 137, 110,  98,  83,  67,\n",
    " 62,  51,  47,  45,  42,  47,  49,  48,  48,  52,  57,  67,  77,\n",
    " 89,  96, 117, 129, 148, 176, 191, 209, 233, 248, 252, 253, 253,\n",
    "245, 234, 214, 199, 183, 159, 145, 129, 118, 109,  97,  94,  94,\n",
    " 83,  82,  79,  75,  82,  91,  99, 104, 104, 113, 129, 146, 153,\n",
    "163, 175, 193, 197, 208, 208, 213, 215, 203, 204])\n",
    "\n",
    "data_vaccine = np.array([\n",
    " 10,  20,  30,  49,  80,  92, 102, 110, 119, 118, 124, 118, 115,\n",
    "96,  79,  72,  65,  61,  51,  37,  36,  28,  21,  22,  15,  15,\n",
    "11,  10,  11,   9,  10,   6,   6,   6,   7,   5,   7,   6,   6,\n",
    " 7,   6,   7,   7,   7,   9,   8,   6,   7,  10,   8,   7,   9,\n",
    " 9,   7,   8,   8,  11,  12,  11,  10,   8,  10,  14,  18,  21,\n",
    "20,  22,  23,  25,  27,  25,  24,  28,  28,  28,  27,  27,  27,\n",
    "27,  28,  25,  25,  19,  20,  21,  21,  24,  26,  28,  33,  43,\n",
    "54,  65,  82,  92, 115, 133, 170, 199, 222, 250])\n",
    "\n",
    "# EXERCISE: plot data\n",
    "pl.figure()\n",
    "pl.plot(data_baseline, label='Baseline')\n",
    "pl.plot(data_vaccine, label='Vaccine')\n",
    "pl.legend()"
   ]
  },
  {
   "cell_type": "markdown",
   "id": "6feae99b-bfe9-4d0f-bace-611945750e5b",
   "metadata": {},
   "source": [
    "## Problem 2\n",
    "\n",
    "Next, we wish to calibrate the model. Change the parameters to `make_run_sim()` to find a good match to `data_baseline`."
   ]
  },
  {
   "cell_type": "code",
   "execution_count": null,
   "id": "772405d0-a052-48e8-ab82-d2151f2d0dea",
   "metadata": {},
   "outputs": [],
   "source": [
    "import sciris as sc\n",
    "import numpy as np\n",
    "import pylab as pl\n",
    "import starsim as ss\n",
    "\n",
    "data_baseline = np.array([\n",
    " 10,  20,  30,  49,  80, 135, 218, 303, 373, 428, 452, 463, 465,\n",
    "446, 411, 374, 323, 270, 244, 222, 214, 214, 227, 246, 260, 271,\n",
    "265, 257, 254, 243, 232, 214, 191, 161, 137, 110,  98,  83,  67,\n",
    " 62,  51,  47,  45,  42,  47,  49,  48,  48,  52,  57,  67,  77,\n",
    " 89,  96, 117, 129, 148, 176, 191, 209, 233, 248, 252, 253, 253,\n",
    "245, 234, 214, 199, 183, 159, 145, 129, 118, 109,  97,  94,  94,\n",
    " 83,  82,  79,  75,  82,  91,  99, 104, 104, 113, 129, 146, 153,\n",
    "163, 175, 193, 197, 208, 208, 213, 215, 203, 204])\n",
    "\n",
    "data_vaccine = np.array([\n",
    " 10,  20,  30,  49,  80,  92, 102, 110, 119, 118, 124, 118, 115,\n",
    "96,  79,  72,  65,  61,  51,  37,  36,  28,  21,  22,  15,  15,\n",
    "11,  10,  11,   9,  10,   6,   6,   6,   7,   5,   7,   6,   6,\n",
    " 7,   6,   7,   7,   7,   9,   8,   6,   7,  10,   8,   7,   9,\n",
    " 9,   7,   8,   8,  11,  12,  11,  10,   8,  10,  14,  18,  21,\n",
    "20,  22,  23,  25,  27,  25,  24,  28,  28,  28,  27,  27,  27,\n",
    "27,  28,  25,  25,  19,  20,  21,  21,  24,  26,  28,  33,  43,\n",
    "54,  65,  82,  92, 115, 133, 170, 199, 222, 250])\n",
    "\n",
    "\n",
    "class Vaccine(ss.Intervention):\n",
    "    def __init__(self, ti=7, p=0.5, boost=2.0):\n",
    "        super().__init__()\n",
    "        self.ti = ti\n",
    "        self.p = p\n",
    "        self.boost = boost\n",
    "    \n",
    "    def apply(self, sim):\n",
    "        if sim.ti == self.ti:\n",
    "            sis = sim.diseases.sis\n",
    "            eligible_ids = sim.people.uid[sis.susceptible]\n",
    "            n_eligible = len(eligible_ids)\n",
    "            is_vacc = np.random.rand(n_eligible) < self.p\n",
    "            vacc_ids = eligible_ids[is_vacc]\n",
    "            sis.immunity[vacc_ids] += self.boost\n",
    "\n",
    "\n",
    "def make_run_sim(beta=0.05, waning=0.05, seed=1, vaccine=False, ti=10, p=0.5, boost=2.0):\n",
    "    pars = dict(\n",
    "        n_agents = 500,\n",
    "        start = 0,\n",
    "        end = 100,\n",
    "        dt = 1.0,\n",
    "        verbose = 0,\n",
    "        rand_seed = seed,\n",
    "        networks = 'random',\n",
    "        diseases = dict(\n",
    "            type = 'sis',\n",
    "            beta = beta,\n",
    "            waning = waning,\n",
    "        )\n",
    "    )\n",
    "    \n",
    "    # Define \"baseline\" and \"intervention\" sims without and with the vaccine\n",
    "    if vaccine:\n",
    "        vx = Vaccine(ti=ti, p=p, boost=boost)\n",
    "        sim = ss.Sim(pars, interventions=vx)\n",
    "    else:\n",
    "        sim = ss.Sim(pars)\n",
    "    \n",
    "    # Run the simulation\n",
    "    sim.run()\n",
    "    results = sc.objdict()\n",
    "    results.time = sim.yearvec\n",
    "    results.n_infected = sim.results.sis.n_infected\n",
    "    return results\n",
    "\n",
    "\n",
    "def plot(results, label=''):\n",
    "    pl.title('Number of people infected')\n",
    "    pl.plot(results.time, results.n_infected, label=label)\n",
    "    pl.legend()\n",
    "    sc.figlayout()\n",
    "\n",
    "\n",
    "# Make, run, and plot the simulation\n",
    "pl.figure()\n",
    "pl.plot(data_baseline, 'o', c='k', label='Baseline data')\n",
    "for seed in range(5):\n",
    "    pars = dict(beta=0.05, waning=0.05, seed=seed) # EXERCISE: update parameters\n",
    "    results = make_run_sim(**pars)\n",
    "    plot(results, f'Baseline {seed}')"
   ]
  },
  {
   "cell_type": "markdown",
   "id": "a9844c75-66dc-4187-87e6-407e6a70d0b6",
   "metadata": {},
   "source": [
    "## Solution 2"
   ]
  },
  {
   "cell_type": "code",
   "execution_count": null,
   "id": "0a2e33b6-5f10-4aec-ab15-19769a17f179",
   "metadata": {},
   "outputs": [],
   "source": [
    "# Make, run, and plot the simulation\n",
    "pl.figure()\n",
    "pl.plot(data_baseline, 'o', c='k', label='Baseline data')\n",
    "for seed in range(5):\n",
    "    pars = dict(beta=0.08, waning=0.03, seed=seed) # EXERCISE: update parameters\n",
    "    results = make_run_sim(**pars)\n",
    "    plot(results, f'Baseline {seed}')"
   ]
  },
  {
   "cell_type": "markdown",
   "id": "536e7d71-2758-4914-9d88-8d714a114306",
   "metadata": {},
   "source": [
    "## Problem 3\n",
    "\n",
    "Estimate the vaccine properties -- the day it was given, the proportion of people who received it and the amount of immune boost. (Note: you will not be able to get a perfect fit!)"
   ]
  },
  {
   "cell_type": "code",
   "execution_count": null,
   "id": "ebc4cd78-02c2-4503-919a-109b55d3da1b",
   "metadata": {},
   "outputs": [],
   "source": [
    "# Make, run, and plot the simulation\n",
    "pl.figure()\n",
    "pl.plot(data_vaccine, 'o', c='k', label='Vaccine data')\n",
    "for seed in range(5):\n",
    "    pars = dict(beta=0.08, waning=0.03, seed=seed)\n",
    "    vaccine_pars = dict(vaccine=True, ti=7, p=0.5, boost=2) # EXERCISE: update parameters\n",
    "    results = make_run_sim(**pars, **vaccine_pars)\n",
    "    plot(results, f'Vaccine seed={seed}')"
   ]
  },
  {
   "cell_type": "markdown",
   "id": "d842c2d5-8f5d-4aa1-a5a0-7740eae1acdb",
   "metadata": {},
   "source": [
    "## Solution 3"
   ]
  },
  {
   "cell_type": "code",
   "execution_count": null,
   "id": "c2e0b31d-df6b-4fe8-b062-abf657a8c1ab",
   "metadata": {},
   "outputs": [],
   "source": [
    "# Make, run, and plot the simulation\n",
    "pl.figure()\n",
    "pl.plot(data_vaccine, 'o', c='k', label='Vaccine data')\n",
    "for seed in range(5):\n",
    "    pars = dict(beta=0.08, waning=0.03, seed=seed)\n",
    "    vaccine_pars = dict(vaccine=True, ti=4, p=0.8, boost=10) # EXERCISE: update parameters\n",
    "    results = make_run_sim(**pars, **vaccine_pars)\n",
    "    plot(results, f'Vaccine seed={seed}')"
   ]
  },
  {
   "cell_type": "code",
   "execution_count": null,
   "id": "3d8b7c16-3b0c-4681-b706-2e2fb1d7e5c5",
   "metadata": {},
   "outputs": [],
   "source": []
  }
 ],
 "metadata": {
  "kernelspec": {
   "display_name": "Python 3 (ipykernel)",
   "language": "python",
   "name": "python3"
  },
  "language_info": {
   "codemirror_mode": {
    "name": "ipython",
    "version": 3
   },
   "file_extension": ".py",
   "mimetype": "text/x-python",
   "name": "python",
   "nbconvert_exporter": "python",
   "pygments_lexer": "ipython3",
   "version": "3.11.7"
  }
 },
 "nbformat": 4,
 "nbformat_minor": 5
}
